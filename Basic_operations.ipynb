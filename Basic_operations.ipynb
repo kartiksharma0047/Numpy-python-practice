{
  "nbformat": 4,
  "nbformat_minor": 0,
  "metadata": {
    "colab": {
      "provenance": []
    },
    "kernelspec": {
      "name": "python3",
      "display_name": "Python 3"
    },
    "language_info": {
      "name": "python"
    }
  },
  "cells": [
    {
      "cell_type": "code",
      "execution_count": 4,
      "metadata": {
        "id": "FwJcOtMhYFyJ"
      },
      "outputs": [],
      "source": [
        "import numpy as np"
      ]
    },
    {
      "cell_type": "code",
      "source": [
        "# Create 1D array and access it\n",
        "arr=  np.array([1,2,3,4,5])\n",
        "print(arr[2])"
      ],
      "metadata": {
        "colab": {
          "base_uri": "https://localhost:8080/"
        },
        "id": "4m-P8TZ1YMvl",
        "outputId": "e67cff56-27fc-4822-c037-20a38a9a04ef"
      },
      "execution_count": 5,
      "outputs": [
        {
          "output_type": "stream",
          "name": "stdout",
          "text": [
            "3\n"
          ]
        }
      ]
    },
    {
      "cell_type": "code",
      "source": [
        "# Create 2D array and access it\n",
        "arr2= np.array([[1,2,3],[4,5,6]])\n",
        "print(arr2)"
      ],
      "metadata": {
        "colab": {
          "base_uri": "https://localhost:8080/"
        },
        "id": "KYASy9rzYRxQ",
        "outputId": "52549abd-94d2-43b7-8a4a-efdad210acb3"
      },
      "execution_count": 6,
      "outputs": [
        {
          "output_type": "stream",
          "name": "stdout",
          "text": [
            "[[1 2 3]\n",
            " [4 5 6]]\n"
          ]
        }
      ]
    },
    {
      "cell_type": "code",
      "source": [
        "# To access 5th number then\n",
        "print(arr2[1,1])"
      ],
      "metadata": {
        "colab": {
          "base_uri": "https://localhost:8080/"
        },
        "id": "GTQ9-O8DcALw",
        "outputId": "cff9d679-a1ea-4422-d648-ee88aca31080"
      },
      "execution_count": 7,
      "outputs": [
        {
          "output_type": "stream",
          "name": "stdout",
          "text": [
            "5\n"
          ]
        }
      ]
    },
    {
      "cell_type": "code",
      "source": [
        "# Properties\n",
        "# (1) ndim - tells which dimensional is the array\n",
        "arr2.ndim"
      ],
      "metadata": {
        "colab": {
          "base_uri": "https://localhost:8080/"
        },
        "id": "gqt6DajYfn8F",
        "outputId": "8a15b3ed-321e-43a6-9601-adf38cf9630a"
      },
      "execution_count": 8,
      "outputs": [
        {
          "output_type": "execute_result",
          "data": {
            "text/plain": [
              "2"
            ]
          },
          "metadata": {},
          "execution_count": 8
        }
      ]
    },
    {
      "cell_type": "code",
      "source": [
        "# (2) itemsize - tells how much byte of items are there in the array\n",
        "arr2.itemsize"
      ],
      "metadata": {
        "colab": {
          "base_uri": "https://localhost:8080/"
        },
        "id": "V8Ig9_34fvFT",
        "outputId": "087118ed-c65c-40e2-b920-8268a0a02461"
      },
      "execution_count": 10,
      "outputs": [
        {
          "output_type": "execute_result",
          "data": {
            "text/plain": [
              "8"
            ]
          },
          "metadata": {},
          "execution_count": 10
        }
      ]
    },
    {
      "cell_type": "code",
      "source": [
        "# Data Type of arr2 each element in google colab is 8 byte or (64 bits) beacuse google colab running on 64-bit architecutre\n",
        "arr2.dtype"
      ],
      "metadata": {
        "colab": {
          "base_uri": "https://localhost:8080/"
        },
        "id": "HTCAn1woN9FS",
        "outputId": "040eeb0f-151f-407b-d4f9-604c35a9ba8b"
      },
      "execution_count": 12,
      "outputs": [
        {
          "output_type": "execute_result",
          "data": {
            "text/plain": [
              "dtype('int64')"
            ]
          },
          "metadata": {},
          "execution_count": 12
        }
      ]
    },
    {
      "cell_type": "code",
      "source": [
        "# To change dtype\n",
        "arr3=np.array([[1,2,3],[4,5,6]],dtype=np.float64)\n",
        "arr3.itemsize"
      ],
      "metadata": {
        "colab": {
          "base_uri": "https://localhost:8080/"
        },
        "id": "V08IBc8uOVWO",
        "outputId": "62711fc2-bf1f-4815-cbdb-204d072ba3e4"
      },
      "execution_count": 44,
      "outputs": [
        {
          "output_type": "execute_result",
          "data": {
            "text/plain": [
              "8"
            ]
          },
          "metadata": {},
          "execution_count": 44
        }
      ]
    },
    {
      "cell_type": "code",
      "source": [
        "# shape - Give the info about the 2D array\n",
        "arr3.shape"
      ],
      "metadata": {
        "colab": {
          "base_uri": "https://localhost:8080/"
        },
        "id": "ZmWyMBN4PhLd",
        "outputId": "a2e56bd3-fcfe-4980-e17a-d4aeab4d7c66"
      },
      "execution_count": 48,
      "outputs": [
        {
          "output_type": "execute_result",
          "data": {
            "text/plain": [
              "(2, 3)"
            ]
          },
          "metadata": {},
          "execution_count": 48
        }
      ]
    },
    {
      "cell_type": "code",
      "source": [
        "# Lets make complex number instead of float\n",
        "arr4=np.array([[1,2,3],[4,5,6]],dtype=np.complex64)\n",
        "arr4"
      ],
      "metadata": {
        "colab": {
          "base_uri": "https://localhost:8080/"
        },
        "id": "Dsl2qqUEQKZX",
        "outputId": "c81fe81c-b19d-4d96-c49c-8842c146d6ad"
      },
      "execution_count": 50,
      "outputs": [
        {
          "output_type": "execute_result",
          "data": {
            "text/plain": [
              "array([[1.+0.j, 2.+0.j, 3.+0.j],\n",
              "       [4.+0.j, 5.+0.j, 6.+0.j]], dtype=complex64)"
            ]
          },
          "metadata": {},
          "execution_count": 50
        }
      ]
    },
    {
      "cell_type": "code",
      "source": [
        "# Now lets initialise array with placeholder number lets i want to make 2D just by 0 number and wanted to make a 2D array (ones and zeros exist)\n",
        "arr4=np.ones((2,2),dtype=np.int64)\n",
        "arr4"
      ],
      "metadata": {
        "colab": {
          "base_uri": "https://localhost:8080/"
        },
        "id": "1Ls745okQefR",
        "outputId": "a998a505-786d-4ae3-a161-462b8c2dd8a4"
      },
      "execution_count": 58,
      "outputs": [
        {
          "output_type": "execute_result",
          "data": {
            "text/plain": [
              "array([[1, 1],\n",
              "       [1, 1]])"
            ]
          },
          "metadata": {},
          "execution_count": 58
        }
      ]
    },
    {
      "cell_type": "code",
      "source": [
        "# In numpy arange exist instead of range in python\n",
        "arr5=np.arange(1,6)\n",
        "arr5"
      ],
      "metadata": {
        "colab": {
          "base_uri": "https://localhost:8080/"
        },
        "id": "puNiJJZ2Rk83",
        "outputId": "6b086dd9-310a-427b-84cc-ba779bae9f89"
      },
      "execution_count": 60,
      "outputs": [
        {
          "output_type": "execute_result",
          "data": {
            "text/plain": [
              "array([1, 2, 3, 4, 5])"
            ]
          },
          "metadata": {},
          "execution_count": 60
        }
      ]
    },
    {
      "cell_type": "code",
      "source": [
        "# In arange there is step argument also which means each iteration number have a step example\n",
        "arr6=np.arange(2,11,2)\n",
        "arr6"
      ],
      "metadata": {
        "colab": {
          "base_uri": "https://localhost:8080/"
        },
        "id": "XAQXeSRwR2SO",
        "outputId": "0638d707-a8dc-45b8-e29b-5db6a3a87724"
      },
      "execution_count": 66,
      "outputs": [
        {
          "output_type": "execute_result",
          "data": {
            "text/plain": [
              "array([ 2,  4,  6,  8, 10])"
            ]
          },
          "metadata": {},
          "execution_count": 66
        }
      ]
    },
    {
      "cell_type": "code",
      "source": [
        "# Linspace function - It gives number based on the count between start and end number\n",
        "arr7=np.linspace(start=1,stop=5,num=10)\n",
        "arr7"
      ],
      "metadata": {
        "colab": {
          "base_uri": "https://localhost:8080/"
        },
        "id": "PouBWxEvSN7-",
        "outputId": "d8f84acc-278e-47dc-e4ea-aa1aaf625275"
      },
      "execution_count": 68,
      "outputs": [
        {
          "output_type": "execute_result",
          "data": {
            "text/plain": [
              "array([1.        , 1.44444444, 1.88888889, 2.33333333, 2.77777778,\n",
              "       3.22222222, 3.66666667, 4.11111111, 4.55555556, 5.        ])"
            ]
          },
          "metadata": {},
          "execution_count": 68
        }
      ]
    },
    {
      "cell_type": "code",
      "source": [
        "# reshape- we can reshape our arrays\n",
        "# arr3 was (2,3)\n",
        "arr3.reshape(3,2)"
      ],
      "metadata": {
        "colab": {
          "base_uri": "https://localhost:8080/"
        },
        "id": "YblLlz0gaiUJ",
        "outputId": "67e2f982-5106-494e-d415-e2619d7768da"
      },
      "execution_count": 70,
      "outputs": [
        {
          "output_type": "execute_result",
          "data": {
            "text/plain": [
              "array([[1., 2.],\n",
              "       [3., 4.],\n",
              "       [5., 6.]])"
            ]
          },
          "metadata": {},
          "execution_count": 70
        }
      ]
    },
    {
      "cell_type": "code",
      "source": [
        "# Ravel() - Flattern the array, It just create a new array it will not alter the old array\n",
        "arr8=np.array([[1,2,3],[4,5,6]])\n",
        "arr8.ravel()"
      ],
      "metadata": {
        "colab": {
          "base_uri": "https://localhost:8080/"
        },
        "id": "IYkJgw79bioB",
        "outputId": "1e1ee50e-7a99-45c8-ba6d-d5d229a7bc5a"
      },
      "execution_count": 72,
      "outputs": [
        {
          "output_type": "execute_result",
          "data": {
            "text/plain": [
              "array([1, 2, 3, 4, 5, 6])"
            ]
          },
          "metadata": {},
          "execution_count": 72
        }
      ]
    },
    {
      "cell_type": "code",
      "source": [
        "# Matheactical Functions\n",
        "print(\"arr.min():\",arr.min(),\"\\narr.max():\",arr.max(),\"\\narr.sum():\",arr.sum())"
      ],
      "metadata": {
        "colab": {
          "base_uri": "https://localhost:8080/"
        },
        "id": "EvXA8uoVbrhY",
        "outputId": "0295417a-c010-437a-eaff-075220eba2f0"
      },
      "execution_count": 74,
      "outputs": [
        {
          "output_type": "stream",
          "name": "stdout",
          "text": [
            "arr.min(): 1 \n",
            "arr.max(): 5 \n",
            "arr.sum(): 15\n"
          ]
        }
      ]
    },
    {
      "cell_type": "code",
      "source": [
        "# Now in sum() there is a concept of axis 0(columns) and axis 1(rows) for 2D arrays ex\n",
        "arr9=np.array([[1,2,3],[4,5,6],[7,8,9]])\n",
        "print(\"Axis 0:\",arr9.sum(axis=0),\"\\nAxis 1:\",arr9.sum(axis=1))"
      ],
      "metadata": {
        "colab": {
          "base_uri": "https://localhost:8080/"
        },
        "id": "0NeKXra6cqD1",
        "outputId": "64c4a3be-0b83-4d07-833b-f18107050f52"
      },
      "execution_count": 80,
      "outputs": [
        {
          "output_type": "stream",
          "name": "stdout",
          "text": [
            "Axis 0: [12 15 18] \n",
            "Axis 1: [ 6 15 24]\n"
          ]
        }
      ]
    },
    {
      "cell_type": "code",
      "source": [
        "# sqrt() - square root function, which is not an individual element function. It is a generic function means\n",
        "np.sqrt(arr9)"
      ],
      "metadata": {
        "colab": {
          "base_uri": "https://localhost:8080/"
        },
        "id": "15xWPc6yda9t",
        "outputId": "ac6db200-606a-49d4-d3ab-108edf7826aa"
      },
      "execution_count": 82,
      "outputs": [
        {
          "output_type": "execute_result",
          "data": {
            "text/plain": [
              "array([[1.        , 1.41421356, 1.73205081],\n",
              "       [2.        , 2.23606798, 2.44948974],\n",
              "       [2.64575131, 2.82842712, 3.        ]])"
            ]
          },
          "metadata": {},
          "execution_count": 82
        }
      ]
    },
    {
      "cell_type": "code",
      "source": [
        "# std() - It is also generic one\n",
        "np.std(arr9,dtype=np.float32)"
      ],
      "metadata": {
        "colab": {
          "base_uri": "https://localhost:8080/"
        },
        "id": "bX361HFseStw",
        "outputId": "83ed5e07-f69a-45d1-c2d4-48a2be2613f6"
      },
      "execution_count": 85,
      "outputs": [
        {
          "output_type": "execute_result",
          "data": {
            "text/plain": [
              "np.float32(2.5819888)"
            ]
          },
          "metadata": {},
          "execution_count": 85
        }
      ]
    },
    {
      "cell_type": "code",
      "source": [
        "# Basic Operations\n",
        "a1=np.array([[1,2],[3,4]])\n",
        "a2=np.array([[5,6],[7,8]])\n",
        "print(\"Addition:\\n\",a1+a2,\"\\nSubtraction:\\n\",a1-a2,\"\\nMultiplication:\\n\",a1*a2,\"\\nDivision:\\n\",a1/a2)"
      ],
      "metadata": {
        "colab": {
          "base_uri": "https://localhost:8080/"
        },
        "id": "X4ZphkAsfDX9",
        "outputId": "b340ae36-2281-4ee7-8fe5-31c0664c9d4f"
      },
      "execution_count": 93,
      "outputs": [
        {
          "output_type": "stream",
          "name": "stdout",
          "text": [
            "Addition:\n",
            " [[ 6  8]\n",
            " [10 12]] \n",
            "Subtraction:\n",
            " [[-4 -4]\n",
            " [-4 -4]] \n",
            "Multiplication:\n",
            " [[ 5 12]\n",
            " [21 32]] \n",
            "Division:\n",
            " [[0.2        0.33333333]\n",
            " [0.42857143 0.5       ]]\n"
          ]
        }
      ]
    },
    {
      "cell_type": "code",
      "source": [
        "# We also have dot() - It do matirx Product\n",
        "print(\"a1.dot(a2):\\n\",a1.dot(a2),\"\\na2.dot(a1):\\n\",a2.dot(a1))"
      ],
      "metadata": {
        "colab": {
          "base_uri": "https://localhost:8080/"
        },
        "id": "DCLiHYpJis5h",
        "outputId": "f18d2ab2-8e4d-4394-ce9d-d9275facaaf6"
      },
      "execution_count": 95,
      "outputs": [
        {
          "output_type": "stream",
          "name": "stdout",
          "text": [
            "a1.dot(a2):\n",
            " [[19 22]\n",
            " [43 50]] \n",
            "a2.dot(a1):\n",
            " [[23 34]\n",
            " [31 46]]\n"
          ]
        }
      ]
    }
  ]
}