{
  "nbformat": 4,
  "nbformat_minor": 0,
  "metadata": {
    "colab": {
      "provenance": []
    },
    "kernelspec": {
      "name": "python3",
      "display_name": "Python 3"
    },
    "language_info": {
      "name": "python"
    }
  },
  "cells": [
    {
      "cell_type": "code",
      "execution_count": 4,
      "metadata": {
        "colab": {
          "base_uri": "https://localhost:8080/"
        },
        "id": "sE8ZF6As2no0",
        "outputId": "66c472dd-bebc-453c-ed40-7b3aed7f4bda"
      },
      "outputs": [
        {
          "output_type": "execute_result",
          "data": {
            "text/plain": [
              "array([1, 2, 3])"
            ]
          },
          "metadata": {},
          "execution_count": 4
        }
      ],
      "source": [
        "import numpy as np\n",
        "import sys\n",
        "import time\n",
        "\n",
        "a=np.array([1,2,3])\n",
        "a"
      ]
    },
    {
      "cell_type": "code",
      "source": [
        "# Lets compare sizes of list and array\n",
        "# (1) List\n",
        "l=range(1000)\n",
        "print(sys.getsizeof(1)*len(l))"
      ],
      "metadata": {
        "colab": {
          "base_uri": "https://localhost:8080/"
        },
        "id": "sA-Yc8GF4IxA",
        "outputId": "aafd164e-6d26-4fc0-bd33-64012fca88fc"
      },
      "execution_count": 2,
      "outputs": [
        {
          "output_type": "stream",
          "name": "stdout",
          "text": [
            "28000\n"
          ]
        }
      ]
    },
    {
      "cell_type": "code",
      "source": [
        "# (2) Array\n",
        "array=np.arange(1000)\n",
        "print(array.size*array.itemsize)"
      ],
      "metadata": {
        "colab": {
          "base_uri": "https://localhost:8080/"
        },
        "id": "2-d5OK0x4lkl",
        "outputId": "046123af-2b99-4a3b-93b6-4098a7e668e8"
      },
      "execution_count": 3,
      "outputs": [
        {
          "output_type": "stream",
          "name": "stdout",
          "text": [
            "8000\n"
          ]
        }
      ]
    },
    {
      "cell_type": "code",
      "source": [
        "# Now the numpy is faster then list lets add 2 list and 2 array and find the time\n",
        "SIZE=100000\n",
        "# (1) List\n",
        "l1=range(SIZE)\n",
        "l2=range(SIZE)\n",
        "start=time.time()\n",
        "result=[(x+y) for x,y in zip(l1,l2)]\n",
        "print(\"Time for list\",(time.time()-start)*1000)"
      ],
      "metadata": {
        "id": "5DdGE3Nu5UTO",
        "colab": {
          "base_uri": "https://localhost:8080/"
        },
        "outputId": "6b0c80f1-a39d-45dc-c80b-65728bf8199c"
      },
      "execution_count": 38,
      "outputs": [
        {
          "output_type": "stream",
          "name": "stdout",
          "text": [
            "Time for list 9.94110107421875\n"
          ]
        }
      ]
    },
    {
      "cell_type": "code",
      "source": [
        "# (2) Array\n",
        "array1=np.arange(SIZE)\n",
        "array2=np.arange(SIZE)\n",
        "start=time.time()\n",
        "result=array1+array2\n",
        "print(\"Time for Numpy Array\",(time.time()-start)*1000)"
      ],
      "metadata": {
        "colab": {
          "base_uri": "https://localhost:8080/"
        },
        "id": "eVfFdn8BKVFK",
        "outputId": "5248f029-fcff-4d4d-f1c0-be8adc144a0e"
      },
      "execution_count": 43,
      "outputs": [
        {
          "output_type": "stream",
          "name": "stdout",
          "text": [
            "Time for Numpy Array 0.5047321319580078\n"
          ]
        }
      ]
    },
    {
      "cell_type": "code",
      "source": [
        "# Convinience Using numpy array\n",
        "a1=np.array([1,2,3])\n",
        "a2=np.array([4,5,6])\n",
        "print(\"Addtion:\",a1+a2,\"\\nSubract:\",a1-a2,\"\\nMultiply:\",a1*a2,\"\\nDivision:\",a1/a2)"
      ],
      "metadata": {
        "colab": {
          "base_uri": "https://localhost:8080/"
        },
        "id": "_ghOlHDISNpc",
        "outputId": "7106c7e2-b9ed-4a93-87d5-c77092a48e38"
      },
      "execution_count": 46,
      "outputs": [
        {
          "output_type": "stream",
          "name": "stdout",
          "text": [
            "Addtion: [5 7 9] \n",
            "Subract: [-3 -3 -3] \n",
            "Multiply: [ 4 10 18] \n",
            "Division: [0.25 0.4  0.5 ]\n"
          ]
        }
      ]
    }
  ]
}